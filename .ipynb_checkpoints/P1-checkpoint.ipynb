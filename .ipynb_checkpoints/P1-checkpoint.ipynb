{
 "cells": [
  {
   "cell_type": "markdown",
   "metadata": {},
   "source": [
    "# Self-Driving Car Engineer Nanodegree\n",
    "\n",
    "\n",
    "## Project: **Finding Lane Lines on the Road** \n",
    "***\n",
    "In this project, you will use the tools you learned about in the lesson to identify lane lines on the road.  You can develop your pipeline on a series of individual images, and later apply the result to a video stream (really just a series of images). Check out the video clip \"raw-lines-example.mp4\" (also contained in this repository) to see what the output should look like after using the helper functions below. \n",
    "\n",
    "Once you have a result that looks roughly like \"raw-lines-example.mp4\", you'll need to get creative and try to average and/or extrapolate the line segments you've detected to map out the full extent of the lane lines.  You can see an example of the result you're going for in the video \"P1_example.mp4\".  Ultimately, you would like to draw just one line for the left side of the lane, and one for the right.\n",
    "\n",
    "In addition to implementing code, there is a brief writeup to complete. The writeup should be completed in a separate file, which can be either a markdown file or a pdf document. There is a [write up template](https://github.com/udacity/CarND-LaneLines-P1/blob/master/writeup_template.md) that can be used to guide the writing process. Completing both the code in the Ipython notebook and the writeup template will cover all of the [rubric points](https://review.udacity.com/#!/rubrics/322/view) for this project.\n",
    "\n",
    "---\n",
    "Let's have a look at our first image called 'test_images/solidWhiteRight.jpg'.  Run the 2 cells below (hit Shift-Enter or the \"play\" button above) to display the image.\n",
    "\n",
    "**Note: If, at any point, you encounter frozen display windows or other confounding issues, you can always start again with a clean slate by going to the \"Kernel\" menu above and selecting \"Restart & Clear Output\".**\n",
    "\n",
    "---"
   ]
  },
  {
   "cell_type": "markdown",
   "metadata": {},
   "source": [
    "**The tools you have are color selection, region of interest selection, grayscaling, Gaussian smoothing, Canny Edge Detection and Hough Tranform line detection.  You  are also free to explore and try other techniques that were not presented in the lesson.  Your goal is piece together a pipeline to detect the line segments in the image, then average/extrapolate them and draw them onto the image for display (as below).  Once you have a working pipeline, try it out on the video stream below.**\n",
    "\n",
    "---\n",
    "\n",
    "<figure>\n",
    " <img src=\"examples/line-segments-example.jpg\" width=\"380\" alt=\"Combined Image\" />\n",
    " <figcaption>\n",
    " <p></p> \n",
    " <p style=\"text-align: center;\"> Your output should look something like this (above) after detecting line segments using the helper functions below </p> \n",
    " </figcaption>\n",
    "</figure>\n",
    " <p></p> \n",
    "<figure>\n",
    " <img src=\"examples/laneLines_thirdPass.jpg\" width=\"380\" alt=\"Combined Image\" />\n",
    " <figcaption>\n",
    " <p></p> \n",
    " <p style=\"text-align: center;\"> Your goal is to connect/average/extrapolate line segments to get output like this</p> \n",
    " </figcaption>\n",
    "</figure>"
   ]
  },
  {
   "cell_type": "markdown",
   "metadata": {},
   "source": [
    "**Run the cell below to import some packages.  If you get an `import error` for a package you've already installed, try changing your kernel (select the Kernel menu above --> Change Kernel).  Still have problems?  Try relaunching Jupyter Notebook from the terminal prompt.  Also, consult the forums for more troubleshooting tips.**  "
   ]
  },
  {
   "cell_type": "markdown",
   "metadata": {},
   "source": [
    "## Ideas for Lane Detection Pipeline"
   ]
  },
  {
   "cell_type": "markdown",
   "metadata": {},
   "source": [
    "**Some OpenCV functions (beyond those introduced in the lesson) that might be useful for this project are:**\n",
    "\n",
    "`cv2.inRange()` for color selection  \n",
    "`cv2.fillPoly()` for regions selection  \n",
    "`cv2.line()` to draw lines on an image given endpoints  \n",
    "`cv2.addWeighted()` to coadd / overlay two images\n",
    "`cv2.cvtColor()` to grayscale or change color\n",
    "`cv2.imwrite()` to output images to file  \n",
    "`cv2.bitwise_and()` to apply a mask to an image\n",
    "\n",
    "**Check out the OpenCV documentation to learn about these and discover even more awesome functionality!**"
   ]
  },
  {
   "cell_type": "markdown",
   "metadata": {},
   "source": [
    "## Import Packages"
   ]
  },
  {
   "cell_type": "code",
   "execution_count": 7,
   "metadata": {},
   "outputs": [],
   "source": [
    "#importing some useful packages\n",
    "import matplotlib.pyplot as plt\n",
    "import matplotlib.image as mpimg\n",
    "import numpy as np\n",
    "import cv2\n",
    "import os, glob\n",
    "import math\n",
    "%matplotlib inline"
   ]
  },
  {
   "cell_type": "markdown",
   "metadata": {},
   "source": [
    "## Helper Functions"
   ]
  },
  {
   "cell_type": "markdown",
   "metadata": {},
   "source": [
    "Below are some helper functions to help get you started. They should look familiar from the lesson!"
   ]
  },
  {
   "cell_type": "code",
   "execution_count": 8,
   "metadata": {},
   "outputs": [],
   "source": [
    "def grayscale(img):\n",
    "    \"\"\"Applies the Grayscale transform\n",
    "    This will return an image with only one color channel\n",
    "    but NOTE: to see the returned image as grayscale\n",
    "    (assuming your grayscaled image is called 'gray')\n",
    "    you should call plt.imshow(gray, cmap='gray')\"\"\"\n",
    "    return cv2.cvtColor(img, cv2.COLOR_RGB2GRAY)\n",
    "    # Or use BGR2GRAY if you read an image with cv2.imread()\n",
    "    # return cv2.cvtColor(img, cv2.COLOR_BGR2GRAY)\n",
    "    \n",
    "def canny(img, low_threshold, high_threshold):\n",
    "    \"\"\"Applies the Canny transform\"\"\"\n",
    "    return cv2.Canny(img, low_threshold, high_threshold)\n",
    "\n",
    "def gaussian_blur(img, kernel_size):\n",
    "    \"\"\"Applies a Gaussian Noise kernel\"\"\"\n",
    "    return cv2.GaussianBlur(img, (kernel_size, kernel_size), 0)\n",
    "\n",
    "def region_of_interest(img, vertices):\n",
    "    \"\"\"\n",
    "    Applies an image mask.\n",
    "    \n",
    "    Only keeps the region of the image defined by the polygon\n",
    "    formed from `vertices`. The rest of the image is set to black.\n",
    "    `vertices` should be a numpy array of integer points.\n",
    "    \"\"\"\n",
    "    #defining a blank mask to start with\n",
    "    mask = np.zeros_like(img)   \n",
    "    \n",
    "    #defining a 3 channel or 1 channel color to fill the mask with depending on the input image\n",
    "    if len(img.shape) > 2:\n",
    "        channel_count = img.shape[2]  # i.e. 3 or 4 depending on your image\n",
    "        ignore_mask_color = (255,) * channel_count\n",
    "    else:\n",
    "        ignore_mask_color = 255\n",
    "        \n",
    "    #filling pixels inside the polygon defined by \"vertices\" with the fill color    \n",
    "    cv2.fillPoly(mask, vertices, ignore_mask_color)\n",
    "    \n",
    "    #returning the image only where mask pixels are nonzero\n",
    "    masked_image = cv2.bitwise_and(img, mask)\n",
    "    return masked_image\n",
    "\n",
    "\n",
    "def draw_lines(img, lines, color=[255, 0, 0], thickness=2):\n",
    "    \"\"\"\n",
    "    NOTE: this is the function you might want to use as a starting point once you want to \n",
    "    average/extrapolate the line segments you detect to map out the full\n",
    "    extent of the lane (going from the result shown in raw-lines-example.mp4\n",
    "    to that shown in P1_example.mp4).  \n",
    "    \n",
    "    Think about things like separating line segments by their \n",
    "    slope ((y2-y1)/(x2-x1)) to decide which segments are part of the left\n",
    "    line vs. the right line.  Then, you can average the position of each of \n",
    "    the lines and extrapolate to the top and bottom of the lane.\n",
    "    \n",
    "    This function draws `lines` with `color` and `thickness`.    \n",
    "    Lines are drawn on the image inplace (mutates the image).\n",
    "    If you want to make the lines semi-transparent, think about combining\n",
    "    this function with the weighted_img() function below\n",
    "    \"\"\"\n",
    "    for line in lines:\n",
    "        for x1,y1,x2,y2 in line:\n",
    "            cv2.line(img, (x1, y1), (x2, y2), color, thickness)\n",
    "\n",
    "def hough_lines(img, rho, theta, threshold, min_line_len, max_line_gap):\n",
    "    \"\"\"\n",
    "    `img` should be the output of a Canny transform.\n",
    "        \n",
    "    Returns an image with hough lines drawn.\n",
    "    \"\"\"\n",
    "    lines = cv2.HoughLinesP(img, rho, theta, threshold, np.array([]), minLineLength=min_line_len, maxLineGap=max_line_gap)\n",
    "    return lines\n",
    "\n",
    "\n",
    "# Python 3 has support for cool math symbols.\n",
    "\n",
    "def weighted_img(img, initial_img, α=0.8, β=1., γ=0.):\n",
    "    \"\"\"\n",
    "    `img` is the output of the hough_lines(), An image with lines drawn on it.\n",
    "    Should be a blank image (all black) with lines drawn on it.\n",
    "    \n",
    "    `initial_img` should be the image before any processing.\n",
    "    \n",
    "    The result image is computed as follows:\n",
    "    \n",
    "    initial_img * α + img * β + γ\n",
    "    NOTE: initial_img and img must be the same shape!\n",
    "    \"\"\"\n",
    "    return cv2.addWeighted(initial_img, α, img, β, γ)"
   ]
  },
  {
   "cell_type": "markdown",
   "metadata": {},
   "source": [
    "## Build a Lane Finding Pipeline\n",
    "\n"
   ]
  },
  {
   "cell_type": "markdown",
   "metadata": {},
   "source": [
    "Build the pipeline and run your solution on all test_images. Make copies into the `test_images_output` directory, and you can use the images in your writeup report.\n",
    "\n",
    "Try tuning the various parameters, especially the low and high Canny thresholds as well as the Hough lines parameters."
   ]
  },
  {
   "cell_type": "markdown",
   "metadata": {},
   "source": [
    "### My Functions"
   ]
  },
  {
   "cell_type": "code",
   "execution_count": 9,
   "metadata": {},
   "outputs": [],
   "source": [
    "# TODO: Build your pipeline that will draw lane lines on the test_images\n",
    "# then save them to the test_images_output directory.\n",
    "\n",
    "class LaneExtractor:\n",
    "    \n",
    "    def __init__(self, debug, full_lines):\n",
    "        \n",
    "        # if debug = true, show and save the images of the pipeline\n",
    "        self.debug = debug\n",
    "        \n",
    "        # if full_lines = true, calculate the two full lane lines, otherwise, calculate the raw lines\n",
    "        self.full_lines = full_lines\n",
    "        \n",
    "        #parameters for Gaussian smoothing\n",
    "        self.kernel = 13\n",
    "        \n",
    "        #params for edge detector\n",
    "        self.low_threshold = 50\n",
    "        self.high_threshold = 150\n",
    "        \n",
    "        # factor for the \"horizon\" vertice of the ROI\n",
    "        self.horizon_f = [ (1/2), (3/5)] # x,y coordinates of the \"horizon\" is horizon_f*(image.shape)\n",
    "        \n",
    "        # parameters for the Hough lines algorithm\n",
    "        self.rho = 2 # distance resolution in pixels of the Hough grid\n",
    "        self.theta = np.pi/180 # angular resolution in radians of the Hough grid\n",
    "        self.threshold = 20   # minimum number of votes (intersections in Hough grid cell)\n",
    "        self.min_line_length = 20 #minimum number of pixels making up a line\n",
    "        self.max_line_gap = 20    # maximum gap in pixels between connectable line segments\n",
    "        \n",
    "        \n",
    "    def configure_gaussian_smooth(self, kernel):\n",
    "        self.kernel = kernel\n",
    "    \n",
    "    def configure_edge_detector(self, low_threshold, high_threshold):\n",
    "        self.low_threshold = low_threshold\n",
    "        self.high_threshold = high_threshold\n",
    "    \n",
    "    def configure_ROI_parameters(self, horizon):\n",
    "        self.horizon_f = horizon\n",
    "    \n",
    "    def configure_hough_algorithm(self, rho, theta, threshold, min_line_length, max_line_gap):\n",
    "        self.rho = rho\n",
    "        self.theta = theta \n",
    "        self.threshold = threshold\n",
    "        self.min_line_length = min_line_length\n",
    "        self.max_line_gap = max_line_gap \n",
    "        \n",
    "    def process_pipeline(self, img_in):\n",
    "        return self.extract_lane_lines(img_in, \"img\")\n",
    "        \n",
    "    def extract_lane_lines(self, img_in, img_name):\n",
    "\n",
    "        # Convert in grayscale\n",
    "        gray_img = grayscale(img_in)\n",
    "\n",
    "        # Apply Gaussian smoothing\n",
    "        blur_img = gaussian_blur(gray_img, self.kernel)\n",
    "\n",
    "        # Extract edges\n",
    "        edges = canny(blur_img, self.low_threshold, self.high_threshold)\n",
    "\n",
    "        # Extract ROI from the image\n",
    "        imshape = img_in.shape\n",
    "        vertices = np.array([[(0,imshape[0]),\n",
    "                              ( imshape[1]*(self.horizon_f[0]-(1/15)), (imshape[0])*self.horizon_f[1] ), \n",
    "                              ( imshape[1]*(self.horizon_f[0]+(1/15)), (imshape[0])*self.horizon_f[1] ), \n",
    "                              (imshape[1],imshape[0])]], dtype=np.int32)\n",
    "        masked_edges = region_of_interest(edges, vertices)\n",
    "\n",
    "        # Extract lines\n",
    "        lines_vector = hough_lines(masked_edges, self.rho, self.theta, self.threshold, self.min_line_length, \n",
    "                                self.max_line_gap)\n",
    "        \n",
    "        # Draw the lines on the original image\n",
    "        lines_img = np.zeros((masked_edges.shape[0], masked_edges.shape[1], 3), dtype=np.uint8)\n",
    "        if(self.full_lines):\n",
    "            self.draw_full_lines(lines_img, lines_vector)\n",
    "        else:\n",
    "            draw_lines(lines_img, lines_vector, thickness=5)\n",
    "        \n",
    "        lines_edges = weighted_img(img_in, lines_img)\n",
    "\n",
    "        image_m = []\n",
    "        \n",
    "        if(self.debug):\n",
    "            # show and save debug images\n",
    "            image_m.append(gray_img)\n",
    "            image_m.append(blur_img)\n",
    "            image_m.append(edges)\n",
    "            image_m.append(masked_edges)\n",
    "            image_m.append(lines_img)\n",
    "            image_m.append(lines_edges)\n",
    "            \n",
    "            cv2.imwrite('info_images_output/' + img_name + \"_gray.jpg\" ,gray_img)\n",
    "            cv2.imwrite('info_images_output/' + img_name + \"_blur.jpg\" ,blur_img)\n",
    "            cv2.imwrite('info_images_output/' + img_name + \"_edges.jpg\" ,edges)\n",
    "            cv2.imwrite('info_images_output/' + img_name + \"_ROI.jpg\" ,masked_edges)\n",
    "            if(self.full_lines):\n",
    "                cv2.imwrite('info_images_output/' + img_name + \"_full_lines.jpg\" ,lines_img)\n",
    "            else:\n",
    "                cv2.imwrite('info_images_output/' + img_name + \"_partial_lines.jpg\" ,lines_img)\n",
    "        \n",
    "            self.show_debug_images(image_m)\n",
    "            \n",
    "        return lines_edges\n",
    "        \n",
    "    def show_debug_images(self, images, cmap=None):\n",
    "        cols = 2\n",
    "        rows = (len(images)+1)//cols\n",
    "        plt.figure(figsize=(10, 11))\n",
    "        for i, image in enumerate(images):\n",
    "            plt.subplot(rows, cols, i+1)            \n",
    "            plt.imshow(image, cmap=cmap)\n",
    "            plt.xticks([])\n",
    "            plt.yticks([])\n",
    "        plt.tight_layout(pad=0, h_pad=0, w_pad=0)\n",
    "        plt.show()\n",
    "        \n",
    "    def draw_full_lines(self, img, lines):\n",
    "        \n",
    "        left_line_x = []\n",
    "        left_line_y = []\n",
    "        \n",
    "        right_line_x = []\n",
    "        right_line_y = []\n",
    "        \n",
    "        lane_lines = []\n",
    "        \n",
    "\n",
    "        for line in lines:\n",
    "            for x1, y1, x2, y2 in line:\n",
    "                # Calculate the slope for each line\n",
    "                slope = (y2 - y1) / (x2 - x1)\n",
    "                \n",
    "                # If the slope is greater than 5, it is considered a Lane Line\n",
    "                if math.fabs(slope) > 0.5:\n",
    "                #if True:   \n",
    "                    # If the slope is negative, it is considered a left Line\n",
    "                    # If the slope is positive, it is considered a right Line\n",
    "                    if slope <= 0:\n",
    "                        left_line_x.extend([x1, x2])\n",
    "                        left_line_y.extend([y1, y2])\n",
    "                    else: \n",
    "                        right_line_x.extend([x1, x2])\n",
    "                        right_line_y.extend([y1, y2])\n",
    "        \n",
    "        # Calculate the functions that fits to the left and right lines\n",
    "        right_function = np.poly1d(np.polyfit(right_line_y, right_line_x, deg=1 ))\n",
    "        left_function = np.poly1d(np.polyfit(left_line_y, left_line_x, deg=1 ))\n",
    "        \n",
    "        #Draw the final lines\n",
    "        imshape = img.shape\n",
    "        \n",
    "        point1 = [int( left_function(imshape[0]) ), imshape[0]]\n",
    "        point2 = [ int( left_function( (imshape[0])*self.horizon_f[1] ) ), int((imshape[0])*self.horizon_f[1] )]\n",
    "\n",
    "        left_line = [point1[0], point1[1],\n",
    "                     point2[0], point2[1]] \n",
    "\n",
    "        point1 = [int( right_function(imshape[0]) ), imshape[0]]\n",
    "        point2 = [ int( right_function( (imshape[0])*self.horizon_f[1] ) ), int((imshape[0])*self.horizon_f[1]) ]\n",
    "\n",
    "        right_line = [point1[0], point1[1],\n",
    "                       point2[0], point2[1]] \n",
    "\n",
    "        lane_lines = [[left_line, right_line]]\n",
    "        draw_lines(img, lane_lines, thickness=10)\n",
    "\n",
    "\n",
    "    "
   ]
  },
  {
   "cell_type": "markdown",
   "metadata": {},
   "source": [
    "## Test Images\n",
    "\n",
    "Build your pipeline to work on the images in the directory \"test_images\"  \n",
    "**You should make sure your pipeline works well on these images before you try the videos.**"
   ]
  },
  {
   "cell_type": "code",
   "execution_count": null,
   "metadata": {
    "scrolled": false
   },
   "outputs": [],
   "source": [
    "# Read test images from disk\n",
    "\n",
    "img_dir = \"test_images/\"\n",
    "\n",
    "img_dir_out = 'test_images_output'\n",
    "\n",
    "if not os.path.exists(img_dir_out):\n",
    "    os.makedirs(img_dir_out)\n",
    "    \n",
    "img_dir_info = 'info_images_output'\n",
    "\n",
    "if not os.path.exists(img_dir_info):\n",
    "    os.makedirs(img_dir_info)\n",
    "\n",
    "lane_extractor = LaneExtractor(True, False)\n",
    "\n",
    "for img_name in os.listdir(img_dir):\n",
    "    \n",
    "    print  (\"Processing image: \" + img_name)\n",
    "    #reading in an image\n",
    "    img_input = mpimg.imread(img_dir + img_name)\n",
    "    img_out = lane_extractor.extract_lane_lines(img_input, img_name)\n",
    "    # Convert and Save image\n",
    "    img_out_rgb = cv2.cvtColor(img_out, cv2.COLOR_BGR2RGB)\n",
    "    cv2.imwrite('test_images_output/' + img_name ,img_out_rgb)\n",
    "\n",
    "\n"
   ]
  },
  {
   "cell_type": "markdown",
   "metadata": {},
   "source": [
    "## Test on Videos\n",
    "\n",
    "You know what's cooler than drawing lanes over images? Drawing lanes over video!\n",
    "\n",
    "We can test our solution on two provided videos:\n",
    "\n",
    "`solidWhiteRight.mp4`\n",
    "\n",
    "`solidYellowLeft.mp4`\n",
    "\n",
    "**Note: if you get an import error when you run the next cell, try changing your kernel (select the Kernel menu above --> Change Kernel). Still have problems? Try relaunching Jupyter Notebook from the terminal prompt. Also, consult the forums for more troubleshooting tips.**\n",
    "\n",
    "**If you get an error that looks like this:**\n",
    "```\n",
    "NeedDownloadError: Need ffmpeg exe. \n",
    "You can download it by calling: \n",
    "imageio.plugins.ffmpeg.download()\n",
    "```\n",
    "**Follow the instructions in the error message and check out [this forum post](https://discussions.udacity.com/t/project-error-of-test-on-videos/274082) for more troubleshooting tips across operating systems.**"
   ]
  },
  {
   "cell_type": "code",
   "execution_count": 4,
   "metadata": {},
   "outputs": [],
   "source": [
    "# Import everything needed to edit/save/watch video clips\n",
    "from moviepy.editor import VideoFileClip\n",
    "from IPython.display import HTML"
   ]
  },
  {
   "cell_type": "markdown",
   "metadata": {},
   "source": [
    "Let's try the one with the solid white lane on the right first ..."
   ]
  },
  {
   "cell_type": "code",
   "execution_count": 10,
   "metadata": {},
   "outputs": [
    {
     "name": "stdout",
     "output_type": "stream",
     "text": [
      "[MoviePy] >>>> Building video test_videos_output/solidWhiteRight.mp4\n",
      "[MoviePy] Writing video test_videos_output/solidWhiteRight.mp4\n"
     ]
    },
    {
     "name": "stderr",
     "output_type": "stream",
     "text": [
      "100%|█████████▉| 221/222 [00:15<00:00, 14.64it/s]\n"
     ]
    },
    {
     "name": "stdout",
     "output_type": "stream",
     "text": [
      "[MoviePy] Done.\n",
      "[MoviePy] >>>> Video ready: test_videos_output/solidWhiteRight.mp4 \n",
      "\n",
      "CPU times: user 3.55 s, sys: 242 ms, total: 3.79 s\n",
      "Wall time: 17 s\n"
     ]
    }
   ],
   "source": [
    "white_output = 'test_videos_output/solidWhiteRight.mp4'\n",
    "## To speed up the testing process you may want to try your pipeline on a shorter subclip of the video\n",
    "## To do so add .subclip(start_second,end_second) to the end of the line below\n",
    "## Where start_second and end_second are integer values representing the start and end of the subclip\n",
    "## You may also uncomment the following line for a subclip of the first 5 seconds\n",
    "clip1 = VideoFileClip(\"test_videos/solidWhiteRight.mp4\")\n",
    "lane_extractor = LaneExtractor(False, True)\n",
    "#clip1 = VideoFileClip(\"test_videos/solidWhiteRight.mp4\")\n",
    "white_clip = clip1.fl_image(lane_extractor.process_pipeline) #NOTE: this function expects color images!!\n",
    "%time white_clip.write_videofile(white_output, audio=False)"
   ]
  },
  {
   "cell_type": "markdown",
   "metadata": {},
   "source": [
    "Play the video inline, or if you prefer find the video in your filesystem (should be in the same directory) and play it in your video player of choice."
   ]
  },
  {
   "cell_type": "code",
   "execution_count": null,
   "metadata": {},
   "outputs": [],
   "source": [
    "HTML(\"\"\"\n",
    "<video width=\"960\" height=\"540\" controls>\n",
    "  <source src=\"{0}\">\n",
    "</video>\n",
    "\"\"\".format(white_output))"
   ]
  },
  {
   "cell_type": "markdown",
   "metadata": {},
   "source": [
    "## Improve the draw_lines() function\n",
    "\n",
    "**At this point, if you were successful with making the pipeline and tuning parameters, you probably have the Hough line segments drawn onto the road, but what about identifying the full extent of the lane and marking it clearly as in the example video (P1_example.mp4)?  Think about defining a line to run the full length of the visible lane based on the line segments you identified with the Hough Transform. As mentioned previously, try to average and/or extrapolate the line segments you've detected to map out the full extent of the lane lines. You can see an example of the result you're going for in the video \"P1_example.mp4\".**\n",
    "\n",
    "**Go back and modify your draw_lines function accordingly and try re-running your pipeline. The new output should draw a single, solid line over the left lane line and a single, solid line over the right lane line. The lines should start from the bottom of the image and extend out to the top of the region of interest.**"
   ]
  },
  {
   "cell_type": "markdown",
   "metadata": {},
   "source": [
    "Now for the one with the solid yellow lane on the left. This one's more tricky!"
   ]
  },
  {
   "cell_type": "code",
   "execution_count": 12,
   "metadata": {},
   "outputs": [
    {
     "name": "stdout",
     "output_type": "stream",
     "text": [
      "[MoviePy] >>>> Building video test_videos_output/solidYellowLeft.mp4\n",
      "[MoviePy] Writing video test_videos_output/solidYellowLeft.mp4\n"
     ]
    },
    {
     "name": "stderr",
     "output_type": "stream",
     "text": [
      "100%|█████████▉| 681/682 [00:50<00:00, 13.47it/s]\n"
     ]
    },
    {
     "name": "stdout",
     "output_type": "stream",
     "text": [
      "[MoviePy] Done.\n",
      "[MoviePy] >>>> Video ready: test_videos_output/solidYellowLeft.mp4 \n",
      "\n",
      "CPU times: user 10.9 s, sys: 794 ms, total: 11.7 s\n",
      "Wall time: 52.4 s\n"
     ]
    }
   ],
   "source": [
    "yellow_output = 'test_videos_output/solidYellowLeft.mp4'\n",
    "## To speed up the testing process you may want to try your pipeline on a shorter subclip of the video\n",
    "## To do so add .subclip(start_second,end_second) to the end of the line below\n",
    "## Where start_second and end_second are integer values representing the start and end of the subclip\n",
    "## You may also uncomment the following line for a subclip of the first 5 seconds\n",
    "##clip2 = VideoFileClip('test_videos/solidYellowLeft.mp4').subclip(0,5)\n",
    "lane_extractor = LaneExtractor(False, True)\n",
    "clip2 = VideoFileClip('test_videos/solidYellowLeft.mp4')\n",
    "yellow_clip = clip2.fl_image(lane_extractor.process_pipeline)\n",
    "%time yellow_clip.write_videofile(yellow_output, audio=False)"
   ]
  },
  {
   "cell_type": "code",
   "execution_count": null,
   "metadata": {},
   "outputs": [],
   "source": [
    "HTML(\"\"\"\n",
    "<video width=\"960\" height=\"540\" controls>\n",
    "  <source src=\"{0}\">\n",
    "</video>\n",
    "\"\"\".format(yellow_output))"
   ]
  },
  {
   "cell_type": "markdown",
   "metadata": {},
   "source": [
    "## Writeup and Submission\n",
    "\n",
    "If you're satisfied with your video outputs, it's time to make the report writeup in a pdf or markdown file. Once you have this Ipython notebook ready along with the writeup, it's time to submit for review! Here is a [link](https://github.com/udacity/CarND-LaneLines-P1/blob/master/writeup_template.md) to the writeup template file.\n"
   ]
  }
 ],
 "metadata": {
  "anaconda-cloud": {},
  "kernelspec": {
   "display_name": "Python 3",
   "language": "python",
   "name": "python3"
  },
  "language_info": {
   "codemirror_mode": {
    "name": "ipython",
    "version": 3
   },
   "file_extension": ".py",
   "mimetype": "text/x-python",
   "name": "python",
   "nbconvert_exporter": "python",
   "pygments_lexer": "ipython3",
   "version": "3.6.3"
  }
 },
 "nbformat": 4,
 "nbformat_minor": 1
}
